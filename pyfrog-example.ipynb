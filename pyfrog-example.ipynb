{
 "cells": [
  {
   "cell_type": "code",
   "execution_count": 1,
   "metadata": {
    "collapsed": true
   },
   "outputs": [],
   "source": [
    "from py4j.java_gateway import JavaGateway, GatewayParameters\n",
    "jar_path = 'lib/pyfrog/target/pyfrog-1.0-bundle.jar'"
   ]
  },
  {
   "cell_type": "code",
   "execution_count": 2,
   "metadata": {
    "collapsed": false
   },
   "outputs": [
    {
     "data": {
      "text/plain": [
       "<subprocess.Popen at 0x7f10446f66d8>"
      ]
     },
     "execution_count": 2,
     "metadata": {},
     "output_type": "execute_result"
    }
   ],
   "source": [
    "# Make sure that the pyfrog gateway is running\n",
    "import subprocess\n",
    "subprocess.Popen(['java','-jar', jar_path])"
   ]
  },
  {
   "cell_type": "code",
   "execution_count": 5,
   "metadata": {
    "collapsed": false
   },
   "outputs": [],
   "source": [
    "# auto_convert=True to convert from python lists to java lists\n",
    "gateway = JavaGateway(auto_convert=True)\n",
    "\n",
    "# Load a FRULER KB\n",
    "kb = gateway.entry_point.loadKb('example.kb')\n",
    "database = kb.getKnowledgeBase().getDatabase()"
   ]
  },
  {
   "cell_type": "code",
   "execution_count": 11,
   "metadata": {
    "collapsed": false
   },
   "outputs": [
    {
     "name": "stdout",
     "output_type": "stream",
     "text": [
      "relative_compactness [0.62, 0.98]\n",
      "surface_area [514.5, 808.5]\n",
      "wall_area [245.0, 416.5]\n",
      "roof_area [110.25, 220.5]\n",
      "overall_height [3.5, 7.0]\n",
      "orientation [2.0, 5.0]\n",
      "glazing_area [2.7755575615628914e-17, 0.4]\n",
      "glazing_area_distribution [0.0, 5.0]\n"
     ]
    }
   ],
   "source": [
    "for var in database.getInputs():\n",
    "    print(var.getName() + ' [' + str(var.getMin()) + ', ' + str(var.getMax()) + ']')"
   ]
  },
  {
   "cell_type": "code",
   "execution_count": 13,
   "metadata": {
    "collapsed": false
   },
   "outputs": [
    {
     "data": {
      "text/plain": [
       "[23.655779260388783]"
      ]
     },
     "execution_count": 13,
     "metadata": {},
     "output_type": "execute_result"
    }
   ],
   "source": [
    "# Prediction:\n",
    "kb.denormalizedInference([0.8, 600.0, 248.0, 120.0, 4.5, 2.1, 0.2, 3.5])"
   ]
  }
 ],
 "metadata": {
  "kernelspec": {
   "display_name": "Python 3",
   "language": "python",
   "name": "python3"
  },
  "language_info": {
   "codemirror_mode": {
    "name": "ipython",
    "version": 3
   },
   "file_extension": ".py",
   "mimetype": "text/x-python",
   "name": "python",
   "nbconvert_exporter": "python",
   "pygments_lexer": "ipython3",
   "version": "3.4.4"
  }
 },
 "nbformat": 4,
 "nbformat_minor": 0
}
